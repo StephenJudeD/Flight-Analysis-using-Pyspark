{
 "cells": [
  {
   "cell_type": "markdown",
   "metadata": {},
   "source": [
    "**Notebook 2**\n",
    "\n",
    "For this section I will be using 2018 flights, and joing the airports data so we can have cleaner and more concise visualisation"
   ]
  },
  {
   "cell_type": "code",
   "execution_count": 1,
   "metadata": {},
   "outputs": [],
   "source": [
    "flightPerfFilePath = \"/ca2/2018.csv\"\n",
    "\n",
    "#Obtain Departure Delays dataset\n",
    "flightPerf = spark.read.csv(flightPerfFilePath, header='true')\n",
    "flightPerf.createOrReplaceTempView(\"FlightPerformance\")\n",
    "\n",
    "#Cache the Departure Delays dataset \n",
    "#flightPerf.cache()"
   ]
  },
  {
   "cell_type": "code",
   "execution_count": 2,
   "metadata": {},
   "outputs": [],
   "source": [
    "airportInfo = \"/ca2/airport.csv\"\n",
    "\n",
    "airportI = spark.read.csv(airportInfo, header='true')\n",
    "airportI.createOrReplaceTempView(\"FlightAirports\")\n",
    "\n",
    "#Cache the Departure Delays dataset \n",
    "#airportI.cache()"
   ]
  },
  {
   "cell_type": "code",
   "execution_count": 18,
   "metadata": {},
   "outputs": [
    {
     "name": "stdout",
     "output_type": "stream",
     "text": [
      "+----+--------------------+----------------+-----+-------+-----------+------------+\n",
      "|iata|             airport|            city|state|country|        lat|        long|\n",
      "+----+--------------------+----------------+-----+-------+-----------+------------+\n",
      "| 00M|            Thigpen |     Bay Springs|   MS|    USA|31.95376472|-89.23450472|\n",
      "| 00R|Livingston Municipal|      Livingston|   TX|    USA|30.68586111|-95.01792778|\n",
      "| 00V|         Meadow Lake|Colorado Springs|   CO|    USA|38.94574889|-104.5698933|\n",
      "| 01G|        Perry-Warsaw|           Perry|   NY|    USA|42.74134667|-78.05208056|\n",
      "| 01J|    Hilliard Airpark|        Hilliard|   FL|    USA| 30.6880125|-81.90594389|\n",
      "+----+--------------------+----------------+-----+-------+-----------+------------+\n",
      "only showing top 5 rows\n",
      "\n"
     ]
    }
   ],
   "source": [
    "airportI.show(5)"
   ]
  },
  {
   "cell_type": "markdown",
   "metadata": {},
   "source": [
    "**Inner join** \n",
    "\n",
    "This is the default join in PySpark and it’s mostly used. This joins two datasets on key columns, where keys don’t match the rows get dropped from both datasets (emp & dept)"
   ]
  },
  {
   "cell_type": "code",
   "execution_count": 3,
   "metadata": {},
   "outputs": [
    {
     "name": "stdout",
     "output_type": "stream",
     "text": [
      "+----------+----------+-----------------+------+----+------------+--------+---------+--------+----------+---------+-------+------------+--------+---------+---------+-----------------+--------+----------------+-------------------+--------+--------+-------------+-------------+---------+--------------+-------------------+-----------+----+--------------------+----------+-----+-------+-----------+------------+\n",
      "|   FL_DATE|OP_CARRIER|OP_CARRIER_FL_NUM|ORIGIN|DEST|CRS_DEP_TIME|DEP_TIME|DEP_DELAY|TAXI_OUT|WHEELS_OFF|WHEELS_ON|TAXI_IN|CRS_ARR_TIME|ARR_TIME|ARR_DELAY|CANCELLED|CANCELLATION_CODE|DIVERTED|CRS_ELAPSED_TIME|ACTUAL_ELAPSED_TIME|AIR_TIME|DISTANCE|CARRIER_DELAY|WEATHER_DELAY|NAS_DELAY|SECURITY_DELAY|LATE_AIRCRAFT_DELAY|Unnamed: 27|iata|             airport|      city|state|country|        lat|        long|\n",
      "+----------+----------+-----------------+------+----+------------+--------+---------+--------+----------+---------+-------+------------+--------+---------+---------+-----------------+--------+----------------+-------------------+--------+--------+-------------+-------------+---------+--------------+-------------------+-----------+----+--------------------+----------+-----+-------+-----------+------------+\n",
      "|2018-01-01|        UA|             2429|   EWR| DEN|        1517|  1512.0|     -5.0|    15.0|    1527.0|   1712.0|   10.0|        1745|  1722.0|    -23.0|      0.0|             null|     0.0|           268.0|              250.0|   225.0|  1605.0|         null|         null|     null|          null|               null|       null| EWR|         Newark Intl|    Newark|   NJ|    USA|40.69249722|-74.16866056|\n",
      "|2018-01-01|        UA|             2427|   LAS| SFO|        1115|  1107.0|     -8.0|    11.0|    1118.0|   1223.0|    7.0|        1254|  1230.0|    -24.0|      0.0|             null|     0.0|            99.0|               83.0|    65.0|   414.0|         null|         null|     null|          null|               null|       null| LAS|McCarran Internat...| Las Vegas|   NV|    USA|36.08036111|-115.1523333|\n",
      "|2018-01-01|        UA|             2426|   SNA| DEN|        1335|  1330.0|     -5.0|    15.0|    1345.0|   1631.0|    5.0|        1649|  1636.0|    -13.0|      0.0|             null|     0.0|           134.0|              126.0|   106.0|   846.0|         null|         null|     null|          null|               null|       null| SNA|John Wayne /Orang...| Santa Ana|   CA|    USA|33.67565861|-117.8682225|\n",
      "|2018-01-01|        UA|             2425|   RSW| ORD|        1546|  1552.0|      6.0|    19.0|    1611.0|   1748.0|    6.0|        1756|  1754.0|     -2.0|      0.0|             null|     0.0|           190.0|              182.0|   157.0|  1120.0|         null|         null|     null|          null|               null|       null| RSW|Southwest Florida...| Ft. Myers|   FL|    USA|26.53616667|-81.75516667|\n",
      "|2018-01-01|        UA|             2424|   ORD| ALB|         630|   650.0|     20.0|    13.0|     703.0|    926.0|   10.0|         922|   936.0|     14.0|      0.0|             null|     0.0|           112.0|              106.0|    83.0|   723.0|         null|         null|     null|          null|               null|       null| ORD|Chicago O'Hare In...|   Chicago|   IL|    USA|  41.979595|-87.90446417|\n",
      "|2018-01-01|        UA|             2422|   ORD| OMA|        2241|  2244.0|      3.0|    15.0|    2259.0|      1.0|    2.0|          14|     3.0|    -11.0|      0.0|             null|     0.0|            93.0|               79.0|    62.0|   416.0|         null|         null|     null|          null|               null|       null| ORD|Chicago O'Hare In...|   Chicago|   IL|    USA|  41.979595|-87.90446417|\n",
      "|2018-01-01|        UA|             2421|   IAH| LAS|         750|   747.0|     -3.0|    14.0|     801.0|    854.0|    6.0|         916|   900.0|    -16.0|      0.0|             null|     0.0|           206.0|              193.0|   173.0|  1222.0|         null|         null|     null|          null|               null|       null| IAH|George Bush Inter...|   Houston|   TX|    USA|29.98047222|-95.33972222|\n",
      "|2018-01-01|        UA|             2420|   DEN| CID|        1324|  1318.0|     -6.0|    11.0|    1329.0|   1554.0|    6.0|        1619|  1600.0|    -19.0|      0.0|             null|     0.0|           115.0|              102.0|    85.0|   692.0|         null|         null|     null|          null|               null|       null| DEN|         Denver Intl|    Denver|   CO|    USA|39.85840806|-104.6670019|\n",
      "|2018-01-01|        UA|             2419|   SMF| EWR|        2224|  2237.0|     13.0|    10.0|    2247.0|    627.0|    9.0|         638|   636.0|     -2.0|      0.0|             null|     0.0|           314.0|              299.0|   280.0|  2500.0|         null|         null|     null|          null|               null|       null| SMF|Sacramento Intern...|Sacramento|   CA|    USA|38.69542167|-121.5907669|\n",
      "|2018-01-01|        UA|             2418|   RIC| DEN|        1601|  1559.0|     -2.0|    12.0|    1611.0|   1748.0|    8.0|        1813|  1756.0|    -17.0|      0.0|             null|     0.0|           252.0|              237.0|   217.0|  1482.0|         null|         null|     null|          null|               null|       null| RIC|Richmond Internat...|  Richmond|   VA|    USA|37.50516667|-77.31966667|\n",
      "|2018-01-01|        UA|             2417|   PDX| EWR|        2240|  2235.0|     -5.0|     9.0|    2244.0|    624.0|    7.0|         647|   631.0|    -16.0|      0.0|             null|     0.0|           307.0|              296.0|   280.0|  2434.0|         null|         null|     null|          null|               null|       null| PDX|       Portland Intl|  Portland|   OR|    USA|45.58872222|   -122.5975|\n",
      "|2018-01-01|        UA|             2416|   ORD| CLE|        2059|  2300.0|    121.0|    24.0|    2324.0|    112.0|    8.0|        2311|   120.0|    129.0|      0.0|             null|     0.0|            72.0|               80.0|    48.0|   316.0|        121.0|          0.0|      8.0|           0.0|                0.0|       null| ORD|Chicago O'Hare In...|   Chicago|   IL|    USA|  41.979595|-87.90446417|\n",
      "|2018-01-01|        UA|             2415|   EWR| PDX|         825|   822.0|     -3.0|    15.0|     837.0|   1104.0|    5.0|        1135|  1109.0|    -26.0|      0.0|             null|     0.0|           370.0|              347.0|   327.0|  2434.0|         null|         null|     null|          null|               null|       null| EWR|         Newark Intl|    Newark|   NJ|    USA|40.69249722|-74.16866056|\n",
      "|2018-01-01|        UA|             2414|   EWR| ATL|        1044|  1055.0|     11.0|    11.0|    1106.0|   1310.0|    5.0|        1318|  1315.0|     -3.0|      0.0|             null|     0.0|           154.0|              140.0|   124.0|   746.0|         null|         null|     null|          null|               null|       null| EWR|         Newark Intl|    Newark|   NJ|    USA|40.69249722|-74.16866056|\n",
      "|2018-01-01|        UA|             2413|   ORD| BTV|        2114|  2230.0|     76.0|    14.0|    2244.0|    123.0|    5.0|          15|   128.0|     73.0|      0.0|             null|     0.0|           121.0|              118.0|    99.0|   763.0|          0.0|         11.0|      0.0|           0.0|               62.0|       null| ORD|Chicago O'Hare In...|   Chicago|   IL|    USA|  41.979595|-87.90446417|\n",
      "|2018-01-01|        UA|             2412|   MCO| LAX|         653|   747.0|     54.0|    14.0|     801.0|   1003.0|   22.0|         930|  1025.0|     55.0|      0.0|             null|     0.0|           337.0|              338.0|   302.0|  2218.0|         54.0|          0.0|      1.0|           0.0|                0.0|       null| MCO|Orlando Internati...|   Orlando|   FL|    USA|28.42888889|-81.31602778|\n",
      "|2018-01-01|        UA|             2411|   EWR| SMF|        1810|  1922.0|     72.0|    16.0|    1938.0|   2157.0|    4.0|        2136|  2201.0|     25.0|      0.0|             null|     0.0|           386.0|              339.0|   319.0|  2500.0|          7.0|          0.0|      0.0|           0.0|               18.0|       null| EWR|         Newark Intl|    Newark|   NJ|    USA|40.69249722|-74.16866056|\n",
      "|2018-01-01|        UA|             2410|   RSW| EWR|        1250|  1337.0|     47.0|    12.0|    1349.0|   1600.0|    6.0|        1537|  1606.0|     29.0|      0.0|             null|     0.0|           167.0|              149.0|   131.0|  1068.0|         29.0|          0.0|      0.0|           0.0|                0.0|       null| RSW|Southwest Florida...| Ft. Myers|   FL|    USA|26.53616667|-81.75516667|\n",
      "|2018-01-01|        UA|             2409|   IAH| JAC|         940|   934.0|     -6.0|    18.0|     952.0|   1156.0|    4.0|        1218|  1200.0|    -18.0|      0.0|             null|     0.0|           218.0|              206.0|   184.0|  1265.0|         null|         null|     null|          null|               null|       null| IAH|George Bush Inter...|   Houston|   TX|    USA|29.98047222|-95.33972222|\n",
      "|2018-01-01|        UA|             2408|   TYS| EWR|        1131|  1140.0|      9.0|     9.0|    1149.0|   1307.0|    5.0|        1333|  1312.0|    -21.0|      0.0|             null|     0.0|           122.0|               92.0|    78.0|   631.0|         null|         null|     null|          null|               null|       null| TYS|        McGhee-Tyson| Knoxville|   TN|    USA|35.81248722|-83.99285583|\n",
      "+----------+----------+-----------------+------+----+------------+--------+---------+--------+----------+---------+-------+------------+--------+---------+---------+-----------------+--------+----------------+-------------------+--------+--------+-------------+-------------+---------+--------------+-------------------+-----------+----+--------------------+----------+-----+-------+-----------+------------+\n",
      "only showing top 20 rows\n",
      "\n"
     ]
    }
   ],
   "source": [
    "inner_join = flightPerf.join(airportI, flightPerf.ORIGIN == airportI.iata)\n",
    "inner_join.show()"
   ]
  },
  {
   "cell_type": "code",
   "execution_count": 4,
   "metadata": {},
   "outputs": [
    {
     "name": "stdout",
     "output_type": "stream",
     "text": [
      "root\n",
      " |-- FL_DATE: string (nullable = true)\n",
      " |-- OP_CARRIER: string (nullable = true)\n",
      " |-- OP_CARRIER_FL_NUM: string (nullable = true)\n",
      " |-- ORIGIN: string (nullable = true)\n",
      " |-- DEST: string (nullable = true)\n",
      " |-- CRS_DEP_TIME: string (nullable = true)\n",
      " |-- DEP_TIME: string (nullable = true)\n",
      " |-- DEP_DELAY: string (nullable = true)\n",
      " |-- TAXI_OUT: string (nullable = true)\n",
      " |-- WHEELS_OFF: string (nullable = true)\n",
      " |-- WHEELS_ON: string (nullable = true)\n",
      " |-- TAXI_IN: string (nullable = true)\n",
      " |-- CRS_ARR_TIME: string (nullable = true)\n",
      " |-- ARR_TIME: string (nullable = true)\n",
      " |-- ARR_DELAY: string (nullable = true)\n",
      " |-- CANCELLED: string (nullable = true)\n",
      " |-- CANCELLATION_CODE: string (nullable = true)\n",
      " |-- DIVERTED: string (nullable = true)\n",
      " |-- CRS_ELAPSED_TIME: string (nullable = true)\n",
      " |-- ACTUAL_ELAPSED_TIME: string (nullable = true)\n",
      " |-- AIR_TIME: string (nullable = true)\n",
      " |-- DISTANCE: string (nullable = true)\n",
      " |-- CARRIER_DELAY: string (nullable = true)\n",
      " |-- WEATHER_DELAY: string (nullable = true)\n",
      " |-- NAS_DELAY: string (nullable = true)\n",
      " |-- SECURITY_DELAY: string (nullable = true)\n",
      " |-- LATE_AIRCRAFT_DELAY: string (nullable = true)\n",
      " |-- Unnamed: 27: string (nullable = true)\n",
      " |-- iata: string (nullable = true)\n",
      " |-- airport: string (nullable = true)\n",
      " |-- city: string (nullable = true)\n",
      " |-- state: string (nullable = true)\n",
      " |-- country: string (nullable = true)\n",
      " |-- lat: string (nullable = true)\n",
      " |-- long: string (nullable = true)\n",
      "\n"
     ]
    }
   ],
   "source": [
    "inner_join.printSchema()"
   ]
  },
  {
   "cell_type": "code",
   "execution_count": 4,
   "metadata": {},
   "outputs": [],
   "source": [
    "from pyspark.sql import functions as F \n",
    "from pyspark.sql.types import DoubleType, IntegerType, StringType, TimestampType, BinaryType"
   ]
  },
  {
   "cell_type": "code",
   "execution_count": 5,
   "metadata": {},
   "outputs": [],
   "source": [
    "inner_join = inner_join.withColumn('DISTANCE', F.col('DISTANCE').cast(IntegerType()))"
   ]
  },
  {
   "cell_type": "code",
   "execution_count": 38,
   "metadata": {},
   "outputs": [],
   "source": [
    "hists = inner_join.select('DISTANCE').rdd.flatMap(lambda row: row).histogram(20)"
   ]
  },
  {
   "cell_type": "code",
   "execution_count": 43,
   "metadata": {},
   "outputs": [
    {
     "data": {
      "image/png": "[encoded data removed]",
      "text/plain": [
       "<Figure size 864x648 with 1 Axes>"
      ]
     },
     "metadata": {
      "needs_background": "light"
     },
     "output_type": "display_data"
    }
   ],
   "source": [
    "data = {\n",
    "    'bins': hists[0][:-1],\n",
    "    'freq': hists[1]\n",
    "}\n",
    "\n",
    "fig = plt.figure(figsize=(12,9))\n",
    "ax = fig.add_subplot(1, 1, 1)\n",
    "ax.bar(data['bins'], data['freq'], width=2000)\n",
    "ax.set_title('Histogram of \\'DISTANCE\\'')\n",
    "\n",
    "plt.savefig('B05793_05_22.png', dpi=300)"
   ]
  },
  {
   "cell_type": "code",
   "execution_count": 6,
   "metadata": {},
   "outputs": [
    {
     "name": "stdout",
     "output_type": "stream",
     "text": [
      "+----------+----------+------+---------+-------------+---------+----+--------------------+----------+-----+-------+-----------+------------+\n",
      "|   FL_DATE|OP_CARRIER|ORIGIN|CANCELLED|WEATHER_DELAY|ARR_DELAY|iata|             airport|      city|state|country|        lat|        long|\n",
      "+----------+----------+------+---------+-------------+---------+----+--------------------+----------+-----+-------+-----------+------------+\n",
      "|2018-01-01|        UA|   EWR|      0.0|         null|    -23.0| EWR|         Newark Intl|    Newark|   NJ|    USA|40.69249722|-74.16866056|\n",
      "|2018-01-01|        UA|   LAS|      0.0|         null|    -24.0| LAS|McCarran Internat...| Las Vegas|   NV|    USA|36.08036111|-115.1523333|\n",
      "|2018-01-01|        UA|   SNA|      0.0|         null|    -13.0| SNA|John Wayne /Orang...| Santa Ana|   CA|    USA|33.67565861|-117.8682225|\n",
      "|2018-01-01|        UA|   RSW|      0.0|         null|     -2.0| RSW|Southwest Florida...| Ft. Myers|   FL|    USA|26.53616667|-81.75516667|\n",
      "|2018-01-01|        UA|   ORD|      0.0|         null|     14.0| ORD|Chicago O'Hare In...|   Chicago|   IL|    USA|  41.979595|-87.90446417|\n",
      "|2018-01-01|        UA|   ORD|      0.0|         null|    -11.0| ORD|Chicago O'Hare In...|   Chicago|   IL|    USA|  41.979595|-87.90446417|\n",
      "|2018-01-01|        UA|   IAH|      0.0|         null|    -16.0| IAH|George Bush Inter...|   Houston|   TX|    USA|29.98047222|-95.33972222|\n",
      "|2018-01-01|        UA|   DEN|      0.0|         null|    -19.0| DEN|         Denver Intl|    Denver|   CO|    USA|39.85840806|-104.6670019|\n",
      "|2018-01-01|        UA|   SMF|      0.0|         null|     -2.0| SMF|Sacramento Intern...|Sacramento|   CA|    USA|38.69542167|-121.5907669|\n",
      "|2018-01-01|        UA|   RIC|      0.0|         null|    -17.0| RIC|Richmond Internat...|  Richmond|   VA|    USA|37.50516667|-77.31966667|\n",
      "|2018-01-01|        UA|   PDX|      0.0|         null|    -16.0| PDX|       Portland Intl|  Portland|   OR|    USA|45.58872222|   -122.5975|\n",
      "|2018-01-01|        UA|   ORD|      0.0|          0.0|    129.0| ORD|Chicago O'Hare In...|   Chicago|   IL|    USA|  41.979595|-87.90446417|\n",
      "|2018-01-01|        UA|   EWR|      0.0|         null|    -26.0| EWR|         Newark Intl|    Newark|   NJ|    USA|40.69249722|-74.16866056|\n",
      "|2018-01-01|        UA|   EWR|      0.0|         null|     -3.0| EWR|         Newark Intl|    Newark|   NJ|    USA|40.69249722|-74.16866056|\n",
      "|2018-01-01|        UA|   ORD|      0.0|         11.0|     73.0| ORD|Chicago O'Hare In...|   Chicago|   IL|    USA|  41.979595|-87.90446417|\n",
      "|2018-01-01|        UA|   MCO|      0.0|          0.0|     55.0| MCO|Orlando Internati...|   Orlando|   FL|    USA|28.42888889|-81.31602778|\n",
      "|2018-01-01|        UA|   EWR|      0.0|          0.0|     25.0| EWR|         Newark Intl|    Newark|   NJ|    USA|40.69249722|-74.16866056|\n",
      "|2018-01-01|        UA|   RSW|      0.0|          0.0|     29.0| RSW|Southwest Florida...| Ft. Myers|   FL|    USA|26.53616667|-81.75516667|\n",
      "|2018-01-01|        UA|   IAH|      0.0|         null|    -18.0| IAH|George Bush Inter...|   Houston|   TX|    USA|29.98047222|-95.33972222|\n",
      "|2018-01-01|        UA|   TYS|      0.0|         null|    -21.0| TYS|        McGhee-Tyson| Knoxville|   TN|    USA|35.81248722|-83.99285583|\n",
      "+----------+----------+------+---------+-------------+---------+----+--------------------+----------+-----+-------+-----------+------------+\n",
      "only showing top 20 rows\n",
      "\n"
     ]
    }
   ],
   "source": [
    "#Selecting the data that i want to use for analysis\n",
    "\n",
    "inner_join = inner_join.select('FL_DATE','OP_CARRIER','ORIGIN','CANCELLED','WEATHER_DELAY','ARR_DELAY','iata','airport','city','state','country','lat','long')\n",
    "inner_join.show()"
   ]
  },
  {
   "cell_type": "code",
   "execution_count": 10,
   "metadata": {},
   "outputs": [
    {
     "name": "stdout",
     "output_type": "stream",
     "text": [
      "+-----+--------------+--------------+\n",
      "|state|sum(CANCELLED)|max(CANCELLED)|\n",
      "+-----+--------------+--------------+\n",
      "|   AZ|        1474.0|           1.0|\n",
      "|   SC|        1727.0|           1.0|\n",
      "|   LA|        1128.0|           1.0|\n",
      "|   MN|        1820.0|           1.0|\n",
      "|   NJ|        4758.0|           1.0|\n",
      "|   OR|         549.0|           1.0|\n",
      "|   NA|         108.0|           1.0|\n",
      "|   VA|        6857.0|           1.0|\n",
      "|   RI|         553.0|           1.0|\n",
      "|   KY|        1660.0|           1.0|\n",
      "|   WY|          72.0|           1.0|\n",
      "|   NH|         343.0|           1.0|\n",
      "|   MI|        2405.0|           1.0|\n",
      "|   NV|        1250.0|           1.0|\n",
      "|   WI|        1139.0|           1.0|\n",
      "|   ID|         213.0|           1.0|\n",
      "|   CA|        8099.0|           1.0|\n",
      "|   CT|         761.0|           1.0|\n",
      "|   NE|         436.0|           1.0|\n",
      "|   MT|          88.0|           1.0|\n",
      "|   NC|        9121.0|           1.0|\n",
      "|   VT|         384.0|           1.0|\n",
      "|   MD|        2320.0|           1.0|\n",
      "|   MO|        2080.0|           1.0|\n",
      "|   VI|          12.0|           1.0|\n",
      "|   IL|        9700.0|           1.0|\n",
      "|   ME|         671.0|           1.0|\n",
      "|   GU|           7.0|           1.0|\n",
      "|   ND|         318.0|           1.0|\n",
      "|   WA|         773.0|           1.0|\n",
      "|   MS|         281.0|           1.0|\n",
      "|   AL|         741.0|           1.0|\n",
      "|   IN|        1135.0|           1.0|\n",
      "|   OH|        2631.0|           1.0|\n",
      "|   TN|        1931.0|           1.0|\n",
      "|   IA|         504.0|           1.0|\n",
      "|   NM|         309.0|           1.0|\n",
      "|   PA|        4560.0|           1.0|\n",
      "|   SD|         220.0|           1.0|\n",
      "|   NY|       12865.0|           1.0|\n",
      "|   TX|       11484.0|           1.0|\n",
      "|   WV|         202.0|           1.0|\n",
      "|   GA|        3081.0|           1.0|\n",
      "|   AS|           0.0|           0.0|\n",
      "|   MA|        3930.0|           1.0|\n",
      "|   KS|         257.0|           1.0|\n",
      "|   CO|        2418.0|           1.0|\n",
      "|   FL|        6509.0|           1.0|\n",
      "|   AK|         414.0|           1.0|\n",
      "|   AR|         502.0|           1.0|\n",
      "+-----+--------------+--------------+\n",
      "only showing top 50 rows\n",
      "\n"
     ]
    }
   ],
   "source": [
    "inner_join.groupBy([\"state\"]).agg(F.sum(\"CANCELLED\") ,F.max(\"CANCELLED\")).show(50)"
   ]
  },
  {
   "cell_type": "code",
   "execution_count": 68,
   "metadata": {},
   "outputs": [
    {
     "data": {
      "text/plain": [
       "7200636"
      ]
     },
     "execution_count": 68,
     "metadata": {},
     "output_type": "execute_result"
    }
   ],
   "source": [
    "inner_join.count()"
   ]
  },
  {
   "cell_type": "code",
   "execution_count": 63,
   "metadata": {},
   "outputs": [
    {
     "name": "stdout",
     "output_type": "stream",
     "text": [
      "+----------+---------+\n",
      "|OP_CARRIER|CANCELLED|\n",
      "+----------+---------+\n",
      "|        UA|      1.0|\n",
      "|        UA|      1.0|\n",
      "|        UA|      1.0|\n",
      "+----------+---------+\n",
      "only showing top 3 rows\n",
      "\n"
     ]
    }
   ],
   "source": [
    "inner_join.select(\"OP_CARRIER\", \"CANCELLED\").filter(\"CANCELLED = 1\").show(3)"
   ]
  },
  {
   "cell_type": "code",
   "execution_count": 62,
   "metadata": {},
   "outputs": [
    {
     "name": "stdout",
     "output_type": "stream",
     "text": [
      "+---------+-------+\n",
      "|CANCELLED|  count|\n",
      "+---------+-------+\n",
      "|      1.0| 116365|\n",
      "|      0.0|7084271|\n",
      "+---------+-------+\n",
      "\n"
     ]
    }
   ],
   "source": [
    "inner_join.groupBy('CANCELLED').count().show()"
   ]
  },
  {
   "cell_type": "code",
   "execution_count": 11,
   "metadata": {},
   "outputs": [],
   "source": [
    "#using the same methodolgy as notebook one to create day, month, year\n",
    "\n",
    "from pyspark.sql.functions import *\n",
    "from pyspark.sql.functions import year, month, dayofweek\n",
    "inner_join = inner_join.withColumn('dayOfWeek', dayofweek(col('FL_DATE')))\n",
    "inner_join = inner_join.withColumn('month', month(col('FL_DATE')))\n",
    "inner_join = inner_join.withColumn('year', year(col('FL_DATE')))"
   ]
  },
  {
   "cell_type": "code",
   "execution_count": 12,
   "metadata": {},
   "outputs": [
    {
     "name": "stdout",
     "output_type": "stream",
     "text": [
      "root\n",
      " |-- FL_DATE: string (nullable = true)\n",
      " |-- OP_CARRIER: string (nullable = true)\n",
      " |-- ORIGIN: string (nullable = true)\n",
      " |-- CANCELLED: string (nullable = true)\n",
      " |-- WEATHER_DELAY: string (nullable = true)\n",
      " |-- ARR_DELAY: string (nullable = true)\n",
      " |-- iata: string (nullable = true)\n",
      " |-- airport: string (nullable = true)\n",
      " |-- city: string (nullable = true)\n",
      " |-- state: string (nullable = true)\n",
      " |-- country: string (nullable = true)\n",
      " |-- lat: string (nullable = true)\n",
      " |-- long: string (nullable = true)\n",
      " |-- dayOfWeek: integer (nullable = true)\n",
      " |-- month: integer (nullable = true)\n",
      " |-- year: integer (nullable = true)\n",
      "\n"
     ]
    }
   ],
   "source": [
    "inner_join.printSchema()"
   ]
  },
  {
   "cell_type": "code",
   "execution_count": 16,
   "metadata": {},
   "outputs": [
    {
     "name": "stdout",
     "output_type": "stream",
     "text": [
      "+---------+-----+----+----------+------+---------+---------+-------------+----+--------------------+----------+-----+-------+-----------+------------+\n",
      "|dayOfWeek|month|year|OP_CARRIER|ORIGIN|CANCELLED|ARR_DELAY|WEATHER_DELAY|iata|             airport|      city|state|country|        lat|        long|\n",
      "+---------+-----+----+----------+------+---------+---------+-------------+----+--------------------+----------+-----+-------+-----------+------------+\n",
      "|        2|    1|2018|        UA|   EWR|        0|    -23.0|         null| EWR|         Newark Intl|    Newark|   NJ|    USA|40.69249722|-74.16866056|\n",
      "|        2|    1|2018|        UA|   LAS|        0|    -24.0|         null| LAS|McCarran Internat...| Las Vegas|   NV|    USA|36.08036111|-115.1523333|\n",
      "|        2|    1|2018|        UA|   SNA|        0|    -13.0|         null| SNA|John Wayne /Orang...| Santa Ana|   CA|    USA|33.67565861|-117.8682225|\n",
      "|        2|    1|2018|        UA|   RSW|        0|     -2.0|         null| RSW|Southwest Florida...| Ft. Myers|   FL|    USA|26.53616667|-81.75516667|\n",
      "|        2|    1|2018|        UA|   ORD|        0|     14.0|         null| ORD|Chicago O'Hare In...|   Chicago|   IL|    USA|  41.979595|-87.90446417|\n",
      "|        2|    1|2018|        UA|   ORD|        0|    -11.0|         null| ORD|Chicago O'Hare In...|   Chicago|   IL|    USA|  41.979595|-87.90446417|\n",
      "|        2|    1|2018|        UA|   IAH|        0|    -16.0|         null| IAH|George Bush Inter...|   Houston|   TX|    USA|29.98047222|-95.33972222|\n",
      "|        2|    1|2018|        UA|   DEN|        0|    -19.0|         null| DEN|         Denver Intl|    Denver|   CO|    USA|39.85840806|-104.6670019|\n",
      "|        2|    1|2018|        UA|   SMF|        0|     -2.0|         null| SMF|Sacramento Intern...|Sacramento|   CA|    USA|38.69542167|-121.5907669|\n",
      "|        2|    1|2018|        UA|   RIC|        0|    -17.0|         null| RIC|Richmond Internat...|  Richmond|   VA|    USA|37.50516667|-77.31966667|\n",
      "|        2|    1|2018|        UA|   PDX|        0|    -16.0|         null| PDX|       Portland Intl|  Portland|   OR|    USA|45.58872222|   -122.5975|\n",
      "|        2|    1|2018|        UA|   ORD|        0|    129.0|            0| ORD|Chicago O'Hare In...|   Chicago|   IL|    USA|  41.979595|-87.90446417|\n",
      "|        2|    1|2018|        UA|   EWR|        0|    -26.0|         null| EWR|         Newark Intl|    Newark|   NJ|    USA|40.69249722|-74.16866056|\n",
      "|        2|    1|2018|        UA|   EWR|        0|     -3.0|         null| EWR|         Newark Intl|    Newark|   NJ|    USA|40.69249722|-74.16866056|\n",
      "|        2|    1|2018|        UA|   ORD|        0|     73.0|           11| ORD|Chicago O'Hare In...|   Chicago|   IL|    USA|  41.979595|-87.90446417|\n",
      "|        2|    1|2018|        UA|   MCO|        0|     55.0|            0| MCO|Orlando Internati...|   Orlando|   FL|    USA|28.42888889|-81.31602778|\n",
      "|        2|    1|2018|        UA|   EWR|        0|     25.0|            0| EWR|         Newark Intl|    Newark|   NJ|    USA|40.69249722|-74.16866056|\n",
      "|        2|    1|2018|        UA|   RSW|        0|     29.0|            0| RSW|Southwest Florida...| Ft. Myers|   FL|    USA|26.53616667|-81.75516667|\n",
      "|        2|    1|2018|        UA|   IAH|        0|    -18.0|         null| IAH|George Bush Inter...|   Houston|   TX|    USA|29.98047222|-95.33972222|\n",
      "|        2|    1|2018|        UA|   TYS|        0|    -21.0|         null| TYS|        McGhee-Tyson| Knoxville|   TN|    USA|35.81248722|-83.99285583|\n",
      "+---------+-----+----+----------+------+---------+---------+-------------+----+--------------------+----------+-----+-------+-----------+------------+\n",
      "only showing top 20 rows\n",
      "\n"
     ]
    }
   ],
   "source": [
    "#Selecting my columns\n",
    "\n",
    "inner_join = inner_join.select('dayOfWeek','month','year','OP_CARRIER','ORIGIN','CANCELLED','ARR_DELAY','WEATHER_DELAY','iata','airport','city','state','country','lat','long')\n",
    "inner_join.show()"
   ]
  },
  {
   "cell_type": "code",
   "execution_count": 17,
   "metadata": {},
   "outputs": [],
   "source": [
    "from pyspark.sql.types import DoubleType, IntegerType, StringType, TimestampType, BinaryType"
   ]
  },
  {
   "cell_type": "code",
   "execution_count": 18,
   "metadata": {},
   "outputs": [],
   "source": [
    "from pyspark.sql import functions as F "
   ]
  },
  {
   "cell_type": "code",
   "execution_count": 19,
   "metadata": {},
   "outputs": [],
   "source": [
    "#'dayOfWeek','month','year','OP_CARRIER','ORIGIN','CANCELLED','iata','airport','city','state','country','lat','long'\n",
    "#converting datatypes where required using cast method\n",
    "\n",
    "inner_join = inner_join.withColumn('dayOfWeek', F.col('dayOfWeek').cast(IntegerType()))\n",
    "inner_join = inner_join.withColumn('month', F.col('month').cast(IntegerType()))\n",
    "inner_join = inner_join.withColumn('year', F.col('year').cast(IntegerType()))\n",
    "inner_join = inner_join.withColumn('CANCELLED', F.col('CANCELLED').cast(IntegerType()))\n",
    "inner_join = inner_join.withColumn('WEATHER_DELAY', F.col('WEATHER_DELAY').cast(IntegerType()))\n",
    "inner_join = inner_join.withColumn('ARR_DELAY', F.col('ARR_DELAY').cast(IntegerType()))"
   ]
  },
  {
   "cell_type": "code",
   "execution_count": 20,
   "metadata": {},
   "outputs": [
    {
     "name": "stdout",
     "output_type": "stream",
     "text": [
      "+---------+-----+----+----------+------+---------+---------+-------------+----+--------------------+---------+-----+-------+-----------+------------+\n",
      "|dayOfWeek|month|year|OP_CARRIER|ORIGIN|CANCELLED|ARR_DELAY|WEATHER_DELAY|iata|             airport|     city|state|country|        lat|        long|\n",
      "+---------+-----+----+----------+------+---------+---------+-------------+----+--------------------+---------+-----+-------+-----------+------------+\n",
      "|        2|    1|2018|        UA|   EWR|        0|      -23|         null| EWR|         Newark Intl|   Newark|   NJ|    USA|40.69249722|-74.16866056|\n",
      "|        2|    1|2018|        UA|   LAS|        0|      -24|         null| LAS|McCarran Internat...|Las Vegas|   NV|    USA|36.08036111|-115.1523333|\n",
      "|        2|    1|2018|        UA|   SNA|        0|      -13|         null| SNA|John Wayne /Orang...|Santa Ana|   CA|    USA|33.67565861|-117.8682225|\n",
      "|        2|    1|2018|        UA|   RSW|        0|       -2|         null| RSW|Southwest Florida...|Ft. Myers|   FL|    USA|26.53616667|-81.75516667|\n",
      "|        2|    1|2018|        UA|   ORD|        0|       14|         null| ORD|Chicago O'Hare In...|  Chicago|   IL|    USA|  41.979595|-87.90446417|\n",
      "+---------+-----+----+----------+------+---------+---------+-------------+----+--------------------+---------+-----+-------+-----------+------------+\n",
      "only showing top 5 rows\n",
      "\n"
     ]
    }
   ],
   "source": [
    "inner_join.show(5)"
   ]
  },
  {
   "cell_type": "code",
   "execution_count": 48,
   "metadata": {},
   "outputs": [
    {
     "name": "stdout",
     "output_type": "stream",
     "text": [
      "+-----+--------------+--------------+\n",
      "|state|sum(CANCELLED)|max(CANCELLED)|\n",
      "+-----+--------------+--------------+\n",
      "|   AZ|          1474|             1|\n",
      "|   SC|          1727|             1|\n",
      "|   LA|          1128|             1|\n",
      "|   MN|          1820|             1|\n",
      "|   NJ|          4758|             1|\n",
      "|   OR|           549|             1|\n",
      "|   NA|           108|             1|\n",
      "|   VA|          6857|             1|\n",
      "|   RI|           553|             1|\n",
      "|   WY|            72|             1|\n",
      "|   KY|          1660|             1|\n",
      "|   NH|           343|             1|\n",
      "|   MI|          2405|             1|\n",
      "|   NV|          1250|             1|\n",
      "|   WI|          1139|             1|\n",
      "|   ID|           213|             1|\n",
      "|   CA|          8099|             1|\n",
      "|   CT|           761|             1|\n",
      "|   NE|           436|             1|\n",
      "|   MT|            88|             1|\n",
      "|   NC|          9121|             1|\n",
      "|   VT|           384|             1|\n",
      "|   MD|          2320|             1|\n",
      "|   MO|          2080|             1|\n",
      "|   VI|            12|             1|\n",
      "|   IL|          9700|             1|\n",
      "|   ME|           671|             1|\n",
      "|   GU|             7|             1|\n",
      "|   WA|           773|             1|\n",
      "|   ND|           318|             1|\n",
      "|   MS|           281|             1|\n",
      "|   AL|           741|             1|\n",
      "|   IN|          1135|             1|\n",
      "|   OH|          2631|             1|\n",
      "|   TN|          1931|             1|\n",
      "|   NM|           309|             1|\n",
      "|   IA|           504|             1|\n",
      "|   PA|          4560|             1|\n",
      "|   SD|           220|             1|\n",
      "|   NY|         12865|             1|\n",
      "|   TX|         11484|             1|\n",
      "|   WV|           202|             1|\n",
      "|   GA|          3081|             1|\n",
      "|   MA|          3930|             1|\n",
      "|   AS|             0|             0|\n",
      "|   KS|           257|             1|\n",
      "|   FL|          6509|             1|\n",
      "|   CO|          2418|             1|\n",
      "|   AK|           414|             1|\n",
      "|   AR|           502|             1|\n",
      "|   OK|           560|             1|\n",
      "|   PR|           243|             1|\n",
      "|   UT|           358|             1|\n",
      "|   HI|           404|             1|\n",
      "+-----+--------------+--------------+\n",
      "\n"
     ]
    }
   ],
   "source": [
    "inner_join.groupBy([\"state\"]).agg(F.sum(\"CANCELLED\") ,F.max(\"CANCELLED\")).show(58)\n"
   ]
  },
  {
   "cell_type": "code",
   "execution_count": 23,
   "metadata": {},
   "outputs": [
    {
     "name": "stdout",
     "output_type": "stream",
     "text": [
      "root\n",
      " |-- dayOfWeek: integer (nullable = true)\n",
      " |-- month: integer (nullable = true)\n",
      " |-- year: integer (nullable = true)\n",
      " |-- OP_CARRIER: string (nullable = true)\n",
      " |-- ORIGIN: string (nullable = true)\n",
      " |-- CANCELLED: integer (nullable = true)\n",
      " |-- ARR_DELAY: integer (nullable = true)\n",
      " |-- WEATHER_DELAY: integer (nullable = true)\n",
      " |-- iata: string (nullable = true)\n",
      " |-- airport: string (nullable = true)\n",
      " |-- city: string (nullable = true)\n",
      " |-- state: string (nullable = true)\n",
      " |-- country: string (nullable = true)\n",
      " |-- lat: string (nullable = true)\n",
      " |-- long: string (nullable = true)\n",
      "\n"
     ]
    }
   ],
   "source": [
    "inner_join.printSchema()"
   ]
  },
  {
   "cell_type": "code",
   "execution_count": 14,
   "metadata": {},
   "outputs": [
    {
     "name": "stdout",
     "output_type": "stream",
     "text": [
      "+---------+-----+----+----------+------+---------+----+--------------------+----------+-----+-------+-----------+------------+\n",
      "|dayOfWeek|month|year|OP_CARRIER|ORIGIN|CANCELLED|iata|             airport|      city|state|country|        lat|        long|\n",
      "+---------+-----+----+----------+------+---------+----+--------------------+----------+-----+-------+-----------+------------+\n",
      "|        2|    1|2018|        UA|   EWR|        0| EWR|         Newark Intl|    Newark|   NJ|    USA|40.69249722|-74.16866056|\n",
      "|        2|    1|2018|        UA|   LAS|        0| LAS|McCarran Internat...| Las Vegas|   NV|    USA|36.08036111|-115.1523333|\n",
      "|        2|    1|2018|        UA|   SNA|        0| SNA|John Wayne /Orang...| Santa Ana|   CA|    USA|33.67565861|-117.8682225|\n",
      "|        2|    1|2018|        UA|   RSW|        0| RSW|Southwest Florida...| Ft. Myers|   FL|    USA|26.53616667|-81.75516667|\n",
      "|        2|    1|2018|        UA|   ORD|        0| ORD|Chicago O'Hare In...|   Chicago|   IL|    USA|  41.979595|-87.90446417|\n",
      "|        2|    1|2018|        UA|   ORD|        0| ORD|Chicago O'Hare In...|   Chicago|   IL|    USA|  41.979595|-87.90446417|\n",
      "|        2|    1|2018|        UA|   IAH|        0| IAH|George Bush Inter...|   Houston|   TX|    USA|29.98047222|-95.33972222|\n",
      "|        2|    1|2018|        UA|   DEN|        0| DEN|         Denver Intl|    Denver|   CO|    USA|39.85840806|-104.6670019|\n",
      "|        2|    1|2018|        UA|   SMF|        0| SMF|Sacramento Intern...|Sacramento|   CA|    USA|38.69542167|-121.5907669|\n",
      "|        2|    1|2018|        UA|   RIC|        0| RIC|Richmond Internat...|  Richmond|   VA|    USA|37.50516667|-77.31966667|\n",
      "|        2|    1|2018|        UA|   PDX|        0| PDX|       Portland Intl|  Portland|   OR|    USA|45.58872222|   -122.5975|\n",
      "|        2|    1|2018|        UA|   ORD|        0| ORD|Chicago O'Hare In...|   Chicago|   IL|    USA|  41.979595|-87.90446417|\n",
      "|        2|    1|2018|        UA|   EWR|        0| EWR|         Newark Intl|    Newark|   NJ|    USA|40.69249722|-74.16866056|\n",
      "|        2|    1|2018|        UA|   EWR|        0| EWR|         Newark Intl|    Newark|   NJ|    USA|40.69249722|-74.16866056|\n",
      "|        2|    1|2018|        UA|   ORD|        0| ORD|Chicago O'Hare In...|   Chicago|   IL|    USA|  41.979595|-87.90446417|\n",
      "|        2|    1|2018|        UA|   MCO|        0| MCO|Orlando Internati...|   Orlando|   FL|    USA|28.42888889|-81.31602778|\n",
      "|        2|    1|2018|        UA|   EWR|        0| EWR|         Newark Intl|    Newark|   NJ|    USA|40.69249722|-74.16866056|\n",
      "|        2|    1|2018|        UA|   RSW|        0| RSW|Southwest Florida...| Ft. Myers|   FL|    USA|26.53616667|-81.75516667|\n",
      "|        2|    1|2018|        UA|   IAH|        0| IAH|George Bush Inter...|   Houston|   TX|    USA|29.98047222|-95.33972222|\n",
      "|        2|    1|2018|        UA|   TYS|        0| TYS|        McGhee-Tyson| Knoxville|   TN|    USA|35.81248722|-83.99285583|\n",
      "+---------+-----+----+----------+------+---------+----+--------------------+----------+-----+-------+-----------+------------+\n",
      "only showing top 20 rows\n",
      "\n"
     ]
    }
   ],
   "source": [
    "#one second thoughts we will go with binary cancellation only\n",
    "inner_join = inner_join.select('dayOfWeek','month','year','OP_CARRIER','ORIGIN','CANCELLED','iata','airport','city','state','country','lat','long')\n",
    "inner_join.show()"
   ]
  },
  {
   "cell_type": "code",
   "execution_count": 16,
   "metadata": {},
   "outputs": [
    {
     "name": "stdout",
     "output_type": "stream",
     "text": [
      "+---------+-----+----+----------+------+---------+----+--------------------+---------+-----+-------+-----------+------------+-------+\n",
      "|dayOfWeek|month|year|OP_CARRIER|ORIGIN|CANCELLED|iata|             airport|     city|state|country|        lat|        long|HighLow|\n",
      "+---------+-----+----+----------+------+---------+----+--------------------+---------+-----+-------+-----------+------------+-------+\n",
      "|        2|    1|2018|        UA|   EWR|        0| EWR|         Newark Intl|   Newark|   NJ|    USA|40.69249722|-74.16866056|   null|\n",
      "|        2|    1|2018|        UA|   LAS|        0| LAS|McCarran Internat...|Las Vegas|   NV|    USA|36.08036111|-115.1523333|   null|\n",
      "|        2|    1|2018|        UA|   SNA|        0| SNA|John Wayne /Orang...|Santa Ana|   CA|    USA|33.67565861|-117.8682225|   null|\n",
      "+---------+-----+----+----------+------+---------+----+--------------------+---------+-----+-------+-----------+------------+-------+\n",
      "only showing top 3 rows\n",
      "\n"
     ]
    }
   ],
   "source": [
    "#I tried to use UDF to view the high and low cancellations\n",
    "\n",
    "import pyspark.sql.functions as F\n",
    "from pyspark.sql.types import *\n",
    "def casesHighLow(CANCELLED):\n",
    "    if CANCELLED < 1 : \n",
    "        return 'high'\n",
    "    else:\n",
    "        return 'low'\n",
    "    \n",
    "#convert to a UDF Function by passing in the function and return type of function\n",
    "casesHighLowUDF = F.udf(casesHighLow, IntegerType())\n",
    "CasesWithHighLow = inner_join.withColumn(\"HighLow\", casesHighLowUDF(\"CANCELLED\"))\n",
    "CasesWithHighLow.show(3)"
   ]
  },
  {
   "cell_type": "code",
   "execution_count": null,
   "metadata": {},
   "outputs": [],
   "source": [
    "inner_join.show(5)"
   ]
  },
  {
   "cell_type": "markdown",
   "metadata": {},
   "source": [
    "**PySpark Window functions** \n",
    "\n",
    "Used to calculate results such as the rank, row number e.t.c over a range of input rows. In this article, I’ve explained the concept of window functions, syntax, and finally how to use them with PySpark SQL and PySpark DataFrame API. These come in handy when we need to make aggregate operations in a specific window frame on DataFrame columns."
   ]
  },
  {
   "cell_type": "code",
   "execution_count": 27,
   "metadata": {},
   "outputs": [],
   "source": [
    "#from pyspark.sql.window import Window\n",
    "\n",
    "#windowSpec = Window().partitionBy(['state']).orderBy(F.desc('CANCELLED'))\n",
    "#inner_join.withColumn(\"rank\",F.rank().over(windowSpec)).show()"
   ]
  },
  {
   "cell_type": "markdown",
   "metadata": {},
   "source": [
    "Sometimes we may need to have the dataframe in flat format. This happens frequently in movie data where we may want to show genres as columns instead of rows. We can use pivot to do this. Here I am trying to get one row for each date and getting the province names as columns.\n"
   ]
  },
  {
   "cell_type": "code",
   "execution_count": 25,
   "metadata": {},
   "outputs": [
    {
     "data": {
      "text/html": [
       "<div>\n",
       "<style scoped>\n",
       "    .dataframe tbody tr th:only-of-type {\n",
       "        vertical-align: middle;\n",
       "    }\n",
       "\n",
       "    .dataframe tbody tr th {\n",
       "        vertical-align: top;\n",
       "    }\n",
       "\n",
       "    .dataframe thead th {\n",
       "        text-align: right;\n",
       "    }\n",
       "</style>\n",
       "<table border=\"1\" class=\"dataframe\">\n",
       "  <thead>\n",
       "    <tr style=\"text-align: right;\">\n",
       "      <th></th>\n",
       "      <th>month</th>\n",
       "      <th>AK</th>\n",
       "      <th>AL</th>\n",
       "      <th>AR</th>\n",
       "      <th>AS</th>\n",
       "      <th>AZ</th>\n",
       "      <th>CA</th>\n",
       "      <th>CO</th>\n",
       "      <th>CT</th>\n",
       "      <th>FL</th>\n",
       "      <th>...</th>\n",
       "      <th>TN</th>\n",
       "      <th>TX</th>\n",
       "      <th>UT</th>\n",
       "      <th>VA</th>\n",
       "      <th>VI</th>\n",
       "      <th>VT</th>\n",
       "      <th>WA</th>\n",
       "      <th>WI</th>\n",
       "      <th>WV</th>\n",
       "      <th>WY</th>\n",
       "    </tr>\n",
       "  </thead>\n",
       "  <tbody>\n",
       "    <tr>\n",
       "      <th>0</th>\n",
       "      <td>12</td>\n",
       "      <td>53</td>\n",
       "      <td>60</td>\n",
       "      <td>44</td>\n",
       "      <td>0</td>\n",
       "      <td>135</td>\n",
       "      <td>644</td>\n",
       "      <td>198</td>\n",
       "      <td>19</td>\n",
       "      <td>330</td>\n",
       "      <td>...</td>\n",
       "      <td>99</td>\n",
       "      <td>1214</td>\n",
       "      <td>27</td>\n",
       "      <td>322</td>\n",
       "      <td>2</td>\n",
       "      <td>10</td>\n",
       "      <td>30</td>\n",
       "      <td>47</td>\n",
       "      <td>12</td>\n",
       "      <td>7</td>\n",
       "    </tr>\n",
       "    <tr>\n",
       "      <th>1</th>\n",
       "      <td>1</td>\n",
       "      <td>55</td>\n",
       "      <td>122</td>\n",
       "      <td>79</td>\n",
       "      <td>0</td>\n",
       "      <td>145</td>\n",
       "      <td>863</td>\n",
       "      <td>297</td>\n",
       "      <td>144</td>\n",
       "      <td>1139</td>\n",
       "      <td>...</td>\n",
       "      <td>309</td>\n",
       "      <td>1871</td>\n",
       "      <td>81</td>\n",
       "      <td>878</td>\n",
       "      <td>3</td>\n",
       "      <td>56</td>\n",
       "      <td>122</td>\n",
       "      <td>113</td>\n",
       "      <td>31</td>\n",
       "      <td>11</td>\n",
       "    </tr>\n",
       "    <tr>\n",
       "      <th>2</th>\n",
       "      <td>6</td>\n",
       "      <td>35</td>\n",
       "      <td>134</td>\n",
       "      <td>62</td>\n",
       "      <td>0</td>\n",
       "      <td>94</td>\n",
       "      <td>567</td>\n",
       "      <td>167</td>\n",
       "      <td>63</td>\n",
       "      <td>562</td>\n",
       "      <td>...</td>\n",
       "      <td>216</td>\n",
       "      <td>878</td>\n",
       "      <td>25</td>\n",
       "      <td>715</td>\n",
       "      <td>0</td>\n",
       "      <td>24</td>\n",
       "      <td>51</td>\n",
       "      <td>140</td>\n",
       "      <td>40</td>\n",
       "      <td>6</td>\n",
       "    </tr>\n",
       "    <tr>\n",
       "      <th>3</th>\n",
       "      <td>3</td>\n",
       "      <td>38</td>\n",
       "      <td>37</td>\n",
       "      <td>38</td>\n",
       "      <td>0</td>\n",
       "      <td>126</td>\n",
       "      <td>1093</td>\n",
       "      <td>246</td>\n",
       "      <td>245</td>\n",
       "      <td>1267</td>\n",
       "      <td>...</td>\n",
       "      <td>253</td>\n",
       "      <td>883</td>\n",
       "      <td>31</td>\n",
       "      <td>1384</td>\n",
       "      <td>2</td>\n",
       "      <td>93</td>\n",
       "      <td>72</td>\n",
       "      <td>101</td>\n",
       "      <td>17</td>\n",
       "      <td>15</td>\n",
       "    </tr>\n",
       "    <tr>\n",
       "      <th>4</th>\n",
       "      <td>5</td>\n",
       "      <td>23</td>\n",
       "      <td>30</td>\n",
       "      <td>34</td>\n",
       "      <td>0</td>\n",
       "      <td>86</td>\n",
       "      <td>656</td>\n",
       "      <td>127</td>\n",
       "      <td>51</td>\n",
       "      <td>404</td>\n",
       "      <td>...</td>\n",
       "      <td>114</td>\n",
       "      <td>732</td>\n",
       "      <td>21</td>\n",
       "      <td>546</td>\n",
       "      <td>1</td>\n",
       "      <td>19</td>\n",
       "      <td>37</td>\n",
       "      <td>64</td>\n",
       "      <td>21</td>\n",
       "      <td>0</td>\n",
       "    </tr>\n",
       "    <tr>\n",
       "      <th>5</th>\n",
       "      <td>9</td>\n",
       "      <td>6</td>\n",
       "      <td>66</td>\n",
       "      <td>41</td>\n",
       "      <td>0</td>\n",
       "      <td>133</td>\n",
       "      <td>539</td>\n",
       "      <td>122</td>\n",
       "      <td>17</td>\n",
       "      <td>299</td>\n",
       "      <td>...</td>\n",
       "      <td>116</td>\n",
       "      <td>1181</td>\n",
       "      <td>20</td>\n",
       "      <td>472</td>\n",
       "      <td>0</td>\n",
       "      <td>11</td>\n",
       "      <td>71</td>\n",
       "      <td>68</td>\n",
       "      <td>17</td>\n",
       "      <td>2</td>\n",
       "    </tr>\n",
       "    <tr>\n",
       "      <th>6</th>\n",
       "      <td>4</td>\n",
       "      <td>15</td>\n",
       "      <td>42</td>\n",
       "      <td>26</td>\n",
       "      <td>0</td>\n",
       "      <td>105</td>\n",
       "      <td>565</td>\n",
       "      <td>136</td>\n",
       "      <td>27</td>\n",
       "      <td>308</td>\n",
       "      <td>...</td>\n",
       "      <td>102</td>\n",
       "      <td>531</td>\n",
       "      <td>28</td>\n",
       "      <td>277</td>\n",
       "      <td>0</td>\n",
       "      <td>26</td>\n",
       "      <td>31</td>\n",
       "      <td>144</td>\n",
       "      <td>6</td>\n",
       "      <td>5</td>\n",
       "    </tr>\n",
       "    <tr>\n",
       "      <th>7</th>\n",
       "      <td>8</td>\n",
       "      <td>31</td>\n",
       "      <td>62</td>\n",
       "      <td>29</td>\n",
       "      <td>0</td>\n",
       "      <td>176</td>\n",
       "      <td>1003</td>\n",
       "      <td>200</td>\n",
       "      <td>39</td>\n",
       "      <td>553</td>\n",
       "      <td>...</td>\n",
       "      <td>205</td>\n",
       "      <td>908</td>\n",
       "      <td>28</td>\n",
       "      <td>773</td>\n",
       "      <td>0</td>\n",
       "      <td>46</td>\n",
       "      <td>108</td>\n",
       "      <td>150</td>\n",
       "      <td>12</td>\n",
       "      <td>8</td>\n",
       "    </tr>\n",
       "    <tr>\n",
       "      <th>8</th>\n",
       "      <td>7</td>\n",
       "      <td>22</td>\n",
       "      <td>56</td>\n",
       "      <td>38</td>\n",
       "      <td>0</td>\n",
       "      <td>184</td>\n",
       "      <td>731</td>\n",
       "      <td>445</td>\n",
       "      <td>50</td>\n",
       "      <td>798</td>\n",
       "      <td>...</td>\n",
       "      <td>194</td>\n",
       "      <td>915</td>\n",
       "      <td>37</td>\n",
       "      <td>621</td>\n",
       "      <td>1</td>\n",
       "      <td>40</td>\n",
       "      <td>66</td>\n",
       "      <td>78</td>\n",
       "      <td>13</td>\n",
       "      <td>5</td>\n",
       "    </tr>\n",
       "    <tr>\n",
       "      <th>9</th>\n",
       "      <td>10</td>\n",
       "      <td>29</td>\n",
       "      <td>49</td>\n",
       "      <td>19</td>\n",
       "      <td>0</td>\n",
       "      <td>67</td>\n",
       "      <td>444</td>\n",
       "      <td>77</td>\n",
       "      <td>11</td>\n",
       "      <td>263</td>\n",
       "      <td>...</td>\n",
       "      <td>70</td>\n",
       "      <td>943</td>\n",
       "      <td>13</td>\n",
       "      <td>198</td>\n",
       "      <td>1</td>\n",
       "      <td>9</td>\n",
       "      <td>91</td>\n",
       "      <td>32</td>\n",
       "      <td>9</td>\n",
       "      <td>2</td>\n",
       "    </tr>\n",
       "  </tbody>\n",
       "</table>\n",
       "<p>10 rows × 55 columns</p>\n",
       "</div>"
      ],
      "text/plain": [
       "   month  AK   AL  AR  AS   AZ    CA   CO   CT    FL  ...   TN    TX  UT  \\\n",
       "0     12  53   60  44   0  135   644  198   19   330  ...   99  1214  27   \n",
       "1      1  55  122  79   0  145   863  297  144  1139  ...  309  1871  81   \n",
       "2      6  35  134  62   0   94   567  167   63   562  ...  216   878  25   \n",
       "3      3  38   37  38   0  126  1093  246  245  1267  ...  253   883  31   \n",
       "4      5  23   30  34   0   86   656  127   51   404  ...  114   732  21   \n",
       "5      9   6   66  41   0  133   539  122   17   299  ...  116  1181  20   \n",
       "6      4  15   42  26   0  105   565  136   27   308  ...  102   531  28   \n",
       "7      8  31   62  29   0  176  1003  200   39   553  ...  205   908  28   \n",
       "8      7  22   56  38   0  184   731  445   50   798  ...  194   915  37   \n",
       "9     10  29   49  19   0   67   444   77   11   263  ...   70   943  13   \n",
       "\n",
       "     VA  VI  VT   WA   WI  WV  WY  \n",
       "0   322   2  10   30   47  12   7  \n",
       "1   878   3  56  122  113  31  11  \n",
       "2   715   0  24   51  140  40   6  \n",
       "3  1384   2  93   72  101  17  15  \n",
       "4   546   1  19   37   64  21   0  \n",
       "5   472   0  11   71   68  17   2  \n",
       "6   277   0  26   31  144   6   5  \n",
       "7   773   0  46  108  150  12   8  \n",
       "8   621   1  40   66   78  13   5  \n",
       "9   198   1   9   91   32   9   2  \n",
       "\n",
       "[10 rows x 55 columns]"
      ]
     },
     "execution_count": 25,
     "metadata": {},
     "output_type": "execute_result"
    }
   ],
   "source": [
    "pivotedCancelled = inner_join.groupBy('month').pivot('state').agg(F.sum('CANCELLED').alias('CANCELLED'))\n",
    "pivotedCancelled.limit(10).toPandas()"
   ]
  },
  {
   "cell_type": "code",
   "execution_count": 33,
   "metadata": {},
   "outputs": [
    {
     "data": {
      "text/html": [
       "<div>\n",
       "<style scoped>\n",
       "    .dataframe tbody tr th:only-of-type {\n",
       "        vertical-align: middle;\n",
       "    }\n",
       "\n",
       "    .dataframe tbody tr th {\n",
       "        vertical-align: top;\n",
       "    }\n",
       "\n",
       "    .dataframe thead th {\n",
       "        text-align: right;\n",
       "    }\n",
       "</style>\n",
       "<table border=\"1\" class=\"dataframe\">\n",
       "  <thead>\n",
       "    <tr style=\"text-align: right;\">\n",
       "      <th></th>\n",
       "      <th>month</th>\n",
       "      <th>AK</th>\n",
       "      <th>AL</th>\n",
       "      <th>AR</th>\n",
       "      <th>AS</th>\n",
       "      <th>AZ</th>\n",
       "      <th>CA</th>\n",
       "      <th>CO</th>\n",
       "      <th>CT</th>\n",
       "      <th>FL</th>\n",
       "      <th>...</th>\n",
       "      <th>TN</th>\n",
       "      <th>TX</th>\n",
       "      <th>UT</th>\n",
       "      <th>VA</th>\n",
       "      <th>VI</th>\n",
       "      <th>VT</th>\n",
       "      <th>WA</th>\n",
       "      <th>WI</th>\n",
       "      <th>WV</th>\n",
       "      <th>WY</th>\n",
       "    </tr>\n",
       "  </thead>\n",
       "  <tbody>\n",
       "    <tr>\n",
       "      <th>0</th>\n",
       "      <td>12</td>\n",
       "      <td>53</td>\n",
       "      <td>60</td>\n",
       "      <td>44</td>\n",
       "      <td>0</td>\n",
       "      <td>135</td>\n",
       "      <td>644</td>\n",
       "      <td>198</td>\n",
       "      <td>19</td>\n",
       "      <td>330</td>\n",
       "      <td>...</td>\n",
       "      <td>99</td>\n",
       "      <td>1214</td>\n",
       "      <td>27</td>\n",
       "      <td>322</td>\n",
       "      <td>2</td>\n",
       "      <td>10</td>\n",
       "      <td>30</td>\n",
       "      <td>47</td>\n",
       "      <td>12</td>\n",
       "      <td>7</td>\n",
       "    </tr>\n",
       "    <tr>\n",
       "      <th>1</th>\n",
       "      <td>1</td>\n",
       "      <td>55</td>\n",
       "      <td>122</td>\n",
       "      <td>79</td>\n",
       "      <td>0</td>\n",
       "      <td>145</td>\n",
       "      <td>863</td>\n",
       "      <td>297</td>\n",
       "      <td>144</td>\n",
       "      <td>1139</td>\n",
       "      <td>...</td>\n",
       "      <td>309</td>\n",
       "      <td>1871</td>\n",
       "      <td>81</td>\n",
       "      <td>878</td>\n",
       "      <td>3</td>\n",
       "      <td>56</td>\n",
       "      <td>122</td>\n",
       "      <td>113</td>\n",
       "      <td>31</td>\n",
       "      <td>11</td>\n",
       "    </tr>\n",
       "    <tr>\n",
       "      <th>2</th>\n",
       "      <td>6</td>\n",
       "      <td>35</td>\n",
       "      <td>134</td>\n",
       "      <td>62</td>\n",
       "      <td>0</td>\n",
       "      <td>94</td>\n",
       "      <td>567</td>\n",
       "      <td>167</td>\n",
       "      <td>63</td>\n",
       "      <td>562</td>\n",
       "      <td>...</td>\n",
       "      <td>216</td>\n",
       "      <td>878</td>\n",
       "      <td>25</td>\n",
       "      <td>715</td>\n",
       "      <td>0</td>\n",
       "      <td>24</td>\n",
       "      <td>51</td>\n",
       "      <td>140</td>\n",
       "      <td>40</td>\n",
       "      <td>6</td>\n",
       "    </tr>\n",
       "    <tr>\n",
       "      <th>3</th>\n",
       "      <td>3</td>\n",
       "      <td>38</td>\n",
       "      <td>37</td>\n",
       "      <td>38</td>\n",
       "      <td>0</td>\n",
       "      <td>126</td>\n",
       "      <td>1093</td>\n",
       "      <td>246</td>\n",
       "      <td>245</td>\n",
       "      <td>1267</td>\n",
       "      <td>...</td>\n",
       "      <td>253</td>\n",
       "      <td>883</td>\n",
       "      <td>31</td>\n",
       "      <td>1384</td>\n",
       "      <td>2</td>\n",
       "      <td>93</td>\n",
       "      <td>72</td>\n",
       "      <td>101</td>\n",
       "      <td>17</td>\n",
       "      <td>15</td>\n",
       "    </tr>\n",
       "    <tr>\n",
       "      <th>4</th>\n",
       "      <td>5</td>\n",
       "      <td>23</td>\n",
       "      <td>30</td>\n",
       "      <td>34</td>\n",
       "      <td>0</td>\n",
       "      <td>86</td>\n",
       "      <td>656</td>\n",
       "      <td>127</td>\n",
       "      <td>51</td>\n",
       "      <td>404</td>\n",
       "      <td>...</td>\n",
       "      <td>114</td>\n",
       "      <td>732</td>\n",
       "      <td>21</td>\n",
       "      <td>546</td>\n",
       "      <td>1</td>\n",
       "      <td>19</td>\n",
       "      <td>37</td>\n",
       "      <td>64</td>\n",
       "      <td>21</td>\n",
       "      <td>0</td>\n",
       "    </tr>\n",
       "    <tr>\n",
       "      <th>5</th>\n",
       "      <td>9</td>\n",
       "      <td>6</td>\n",
       "      <td>66</td>\n",
       "      <td>41</td>\n",
       "      <td>0</td>\n",
       "      <td>133</td>\n",
       "      <td>539</td>\n",
       "      <td>122</td>\n",
       "      <td>17</td>\n",
       "      <td>299</td>\n",
       "      <td>...</td>\n",
       "      <td>116</td>\n",
       "      <td>1181</td>\n",
       "      <td>20</td>\n",
       "      <td>472</td>\n",
       "      <td>0</td>\n",
       "      <td>11</td>\n",
       "      <td>71</td>\n",
       "      <td>68</td>\n",
       "      <td>17</td>\n",
       "      <td>2</td>\n",
       "    </tr>\n",
       "    <tr>\n",
       "      <th>6</th>\n",
       "      <td>4</td>\n",
       "      <td>15</td>\n",
       "      <td>42</td>\n",
       "      <td>26</td>\n",
       "      <td>0</td>\n",
       "      <td>105</td>\n",
       "      <td>565</td>\n",
       "      <td>136</td>\n",
       "      <td>27</td>\n",
       "      <td>308</td>\n",
       "      <td>...</td>\n",
       "      <td>102</td>\n",
       "      <td>531</td>\n",
       "      <td>28</td>\n",
       "      <td>277</td>\n",
       "      <td>0</td>\n",
       "      <td>26</td>\n",
       "      <td>31</td>\n",
       "      <td>144</td>\n",
       "      <td>6</td>\n",
       "      <td>5</td>\n",
       "    </tr>\n",
       "    <tr>\n",
       "      <th>7</th>\n",
       "      <td>8</td>\n",
       "      <td>31</td>\n",
       "      <td>62</td>\n",
       "      <td>29</td>\n",
       "      <td>0</td>\n",
       "      <td>176</td>\n",
       "      <td>1003</td>\n",
       "      <td>200</td>\n",
       "      <td>39</td>\n",
       "      <td>553</td>\n",
       "      <td>...</td>\n",
       "      <td>205</td>\n",
       "      <td>908</td>\n",
       "      <td>28</td>\n",
       "      <td>773</td>\n",
       "      <td>0</td>\n",
       "      <td>46</td>\n",
       "      <td>108</td>\n",
       "      <td>150</td>\n",
       "      <td>12</td>\n",
       "      <td>8</td>\n",
       "    </tr>\n",
       "    <tr>\n",
       "      <th>8</th>\n",
       "      <td>7</td>\n",
       "      <td>22</td>\n",
       "      <td>56</td>\n",
       "      <td>38</td>\n",
       "      <td>0</td>\n",
       "      <td>184</td>\n",
       "      <td>731</td>\n",
       "      <td>445</td>\n",
       "      <td>50</td>\n",
       "      <td>798</td>\n",
       "      <td>...</td>\n",
       "      <td>194</td>\n",
       "      <td>915</td>\n",
       "      <td>37</td>\n",
       "      <td>621</td>\n",
       "      <td>1</td>\n",
       "      <td>40</td>\n",
       "      <td>66</td>\n",
       "      <td>78</td>\n",
       "      <td>13</td>\n",
       "      <td>5</td>\n",
       "    </tr>\n",
       "    <tr>\n",
       "      <th>9</th>\n",
       "      <td>10</td>\n",
       "      <td>29</td>\n",
       "      <td>49</td>\n",
       "      <td>19</td>\n",
       "      <td>0</td>\n",
       "      <td>67</td>\n",
       "      <td>444</td>\n",
       "      <td>77</td>\n",
       "      <td>11</td>\n",
       "      <td>263</td>\n",
       "      <td>...</td>\n",
       "      <td>70</td>\n",
       "      <td>943</td>\n",
       "      <td>13</td>\n",
       "      <td>198</td>\n",
       "      <td>1</td>\n",
       "      <td>9</td>\n",
       "      <td>91</td>\n",
       "      <td>32</td>\n",
       "      <td>9</td>\n",
       "      <td>2</td>\n",
       "    </tr>\n",
       "    <tr>\n",
       "      <th>10</th>\n",
       "      <td>11</td>\n",
       "      <td>39</td>\n",
       "      <td>33</td>\n",
       "      <td>35</td>\n",
       "      <td>0</td>\n",
       "      <td>61</td>\n",
       "      <td>549</td>\n",
       "      <td>114</td>\n",
       "      <td>33</td>\n",
       "      <td>249</td>\n",
       "      <td>...</td>\n",
       "      <td>101</td>\n",
       "      <td>360</td>\n",
       "      <td>19</td>\n",
       "      <td>298</td>\n",
       "      <td>0</td>\n",
       "      <td>28</td>\n",
       "      <td>66</td>\n",
       "      <td>63</td>\n",
       "      <td>9</td>\n",
       "      <td>6</td>\n",
       "    </tr>\n",
       "    <tr>\n",
       "      <th>11</th>\n",
       "      <td>2</td>\n",
       "      <td>68</td>\n",
       "      <td>50</td>\n",
       "      <td>57</td>\n",
       "      <td>0</td>\n",
       "      <td>162</td>\n",
       "      <td>445</td>\n",
       "      <td>289</td>\n",
       "      <td>62</td>\n",
       "      <td>337</td>\n",
       "      <td>...</td>\n",
       "      <td>152</td>\n",
       "      <td>1068</td>\n",
       "      <td>28</td>\n",
       "      <td>373</td>\n",
       "      <td>2</td>\n",
       "      <td>22</td>\n",
       "      <td>28</td>\n",
       "      <td>139</td>\n",
       "      <td>15</td>\n",
       "      <td>5</td>\n",
       "    </tr>\n",
       "  </tbody>\n",
       "</table>\n",
       "<p>12 rows × 55 columns</p>\n",
       "</div>"
      ],
      "text/plain": [
       "    month  AK   AL  AR  AS   AZ    CA   CO   CT    FL  ...   TN    TX  UT  \\\n",
       "0      12  53   60  44   0  135   644  198   19   330  ...   99  1214  27   \n",
       "1       1  55  122  79   0  145   863  297  144  1139  ...  309  1871  81   \n",
       "2       6  35  134  62   0   94   567  167   63   562  ...  216   878  25   \n",
       "3       3  38   37  38   0  126  1093  246  245  1267  ...  253   883  31   \n",
       "4       5  23   30  34   0   86   656  127   51   404  ...  114   732  21   \n",
       "5       9   6   66  41   0  133   539  122   17   299  ...  116  1181  20   \n",
       "6       4  15   42  26   0  105   565  136   27   308  ...  102   531  28   \n",
       "7       8  31   62  29   0  176  1003  200   39   553  ...  205   908  28   \n",
       "8       7  22   56  38   0  184   731  445   50   798  ...  194   915  37   \n",
       "9      10  29   49  19   0   67   444   77   11   263  ...   70   943  13   \n",
       "10     11  39   33  35   0   61   549  114   33   249  ...  101   360  19   \n",
       "11      2  68   50  57   0  162   445  289   62   337  ...  152  1068  28   \n",
       "\n",
       "      VA  VI  VT   WA   WI  WV  WY  \n",
       "0    322   2  10   30   47  12   7  \n",
       "1    878   3  56  122  113  31  11  \n",
       "2    715   0  24   51  140  40   6  \n",
       "3   1384   2  93   72  101  17  15  \n",
       "4    546   1  19   37   64  21   0  \n",
       "5    472   0  11   71   68  17   2  \n",
       "6    277   0  26   31  144   6   5  \n",
       "7    773   0  46  108  150  12   8  \n",
       "8    621   1  40   66   78  13   5  \n",
       "9    198   1   9   91   32   9   2  \n",
       "10   298   0  28   66   63   9   6  \n",
       "11   373   2  22   28  139  15   5  \n",
       "\n",
       "[12 rows x 55 columns]"
      ]
     },
     "execution_count": 33,
     "metadata": {},
     "output_type": "execute_result"
    }
   ],
   "source": [
    "pivotedCancelled.toPandas()"
   ]
  },
  {
   "cell_type": "markdown",
   "metadata": {},
   "source": [
    "**Observation regarding memory**\n",
    "\n",
    "When you work with Spark you will frequently run with memory and storage issues. While in some cases such issues might be resolved using techniques like broadcasting, salting or cache, sometimes just interrupting the workflow and saving and reloading the whole dataframe at a crucial step has helped me a lot. This helps spark to let go of a lot of memory that gets utilized for storing intermediate shuffle data and unused caches."
   ]
  },
  {
   "cell_type": "markdown",
   "metadata": {},
   "source": [
    "See below: already exists from previous notebook - no need to run again as it's already in memory but in memory, when i ran again I received this error; *AnalysisException: path hdfs://localhost:9000/user/hduser/data/inner_join.parquet already exists*"
   ]
  },
  {
   "cell_type": "code",
   "execution_count": 18,
   "metadata": {},
   "outputs": [],
   "source": [
    "#inner_join.write.parquet(\"data/inner_join.parquet\")\n",
    "#spark.read.load(\"data/inner_join.parquet\")"
   ]
  },
  {
   "cell_type": "markdown",
   "metadata": {},
   "source": [
    "**Numerical Correlations**\n",
    "\n",
    "completed numerical corr on my chosen data with little success or observations gained, It’s obvious that there aren’t highly correlated numeric variables. Therefore, we will keep all of them for the model. "
   ]
  },
  {
   "cell_type": "code",
   "execution_count": 19,
   "metadata": {},
   "outputs": [],
   "source": [
    " numerical = ['dayOfWeek','month','year','CANCELLED','WEATHER_DELAY']# maybe add weather delay!!!!!!"
   ]
  },
  {
   "cell_type": "code",
   "execution_count": 20,
   "metadata": {},
   "outputs": [
    {
     "data": {
      "text/plain": [
       "[[1.0,\n",
       "  -0.0007479533864901083,\n",
       "  nan,\n",
       "  0.0002052680900963403,\n",
       "  -4.428535297648181e-06],\n",
       " [None, 1.0, nan, -0.03552534290441702, -0.0015441049552425735],\n",
       " [None, None, nan, nan, nan],\n",
       " [None, None, None, 1.0, -0.006687091965827256],\n",
       " [None, None, None, None, 1.0]]"
      ]
     },
     "execution_count": 20,
     "metadata": {},
     "output_type": "execute_result"
    }
   ],
   "source": [
    "n_numerical = len(numerical)\n",
    "\n",
    "corr = []\n",
    "\n",
    "for i in range(0, n_numerical):\n",
    "    temp = [None] * i\n",
    "    \n",
    "    for j in range(i, n_numerical):\n",
    "        temp.append(inner_join.corr(numerical[i], numerical[j]))\n",
    "    corr.append(temp)\n",
    "    \n",
    "corr"
   ]
  },
  {
   "cell_type": "code",
   "execution_count": 45,
   "metadata": {},
   "outputs": [
    {
     "name": "stdout",
     "output_type": "stream",
     "text": [
      "\u001b[31mERROR: Could not find a version that satisfies the requirement OneHotEncoder (from versions: none)\u001b[0m\n",
      "\u001b[31mERROR: No matching distribution found for OneHotEncoder\u001b[0m\n",
      "Note: you may need to restart the kernel to use updated packages.\n"
     ]
    }
   ],
   "source": [
    "pip install OneHotEncoder"
   ]
  },
  {
   "cell_type": "markdown",
   "metadata": {},
   "source": [
    "**Preparing Data for Machine Learning**\n",
    "\n",
    "The process includes Category Indexing, One-Hot Encoding and VectorAssembler — a feature transformer that merges multiple columns into a vector column. Same mthodology as notebook 1"
   ]
  },
  {
   "cell_type": "markdown",
   "metadata": {},
   "source": [
    "We use Pipeline to chain multiple Transformers and Estimators together to specify our machine learning workflow. A Pipeline’s stages are specified as an ordered array."
   ]
  },
  {
   "cell_type": "code",
   "execution_count": 17,
   "metadata": {},
   "outputs": [],
   "source": [
    "from pyspark.ml.feature import OneHotEncoder, StringIndexer, VectorAssembler \n",
    "\n",
    "categoricalColumns = ['OP_CARRIER', 'iata', 'airport', 'city']\n",
    "stages = []\n",
    "for categoricalCol in categoricalColumns:\n",
    "    stringIndexer = StringIndexer(inputCol = categoricalCol, outputCol = categoricalCol + 'Index')\n",
    "    encoder = OneHotEncoder(inputCols=[stringIndexer.getOutputCol()], outputCols=[categoricalCol + \"classVec\"])\n",
    "    stages += [stringIndexer, encoder]\n",
    "label_stringIdx = StringIndexer(inputCol = 'state', outputCol = 'label')\n",
    "stages += [label_stringIdx]\n",
    "numericCols = ['CANCELLED','month']\n",
    "assemblerInputs = [c + \"classVec\" for c in categoricalColumns] + numericCols\n",
    "assembler = VectorAssembler(inputCols=assemblerInputs, outputCol=\"features\")\n",
    "stages += [assembler]"
   ]
  },
  {
   "cell_type": "code",
   "execution_count": 18,
   "metadata": {},
   "outputs": [],
   "source": [
    "cols = inner_join.columns"
   ]
  },
  {
   "cell_type": "code",
   "execution_count": 19,
   "metadata": {},
   "outputs": [
    {
     "name": "stdout",
     "output_type": "stream",
     "text": [
      "root\n",
      " |-- label: double (nullable = false)\n",
      " |-- features: vector (nullable = true)\n",
      " |-- dayOfWeek: integer (nullable = true)\n",
      " |-- month: integer (nullable = true)\n",
      " |-- year: integer (nullable = true)\n",
      " |-- OP_CARRIER: string (nullable = true)\n",
      " |-- ORIGIN: string (nullable = true)\n",
      " |-- CANCELLED: integer (nullable = true)\n",
      " |-- iata: string (nullable = true)\n",
      " |-- airport: string (nullable = true)\n",
      " |-- city: string (nullable = true)\n",
      " |-- state: string (nullable = true)\n",
      " |-- country: string (nullable = true)\n",
      " |-- lat: string (nullable = true)\n",
      " |-- long: string (nullable = true)\n",
      "\n"
     ]
    }
   ],
   "source": [
    "from pyspark.ml import Pipeline\n",
    "pipeline = Pipeline(stages = stages)\n",
    "pipelineModel = pipeline.fit(inner_join)\n",
    "inner_join = pipelineModel.transform(inner_join)\n",
    "selectedCols = ['label', 'features'] + cols\n",
    "inner_join = inner_join.select(selectedCols)\n",
    "inner_join.printSchema()"
   ]
  },
  {
   "cell_type": "markdown",
   "metadata": {},
   "source": [
    "**Train & Test**\n",
    "\n",
    "Randomly split data into train and test sets, and set seed for reproducibility."
   ]
  },
  {
   "cell_type": "code",
   "execution_count": 20,
   "metadata": {},
   "outputs": [
    {
     "name": "stdout",
     "output_type": "stream",
     "text": [
      "Training Dataset Count: 5040674\n",
      "Test Dataset Count: 2159962\n"
     ]
    }
   ],
   "source": [
    "train, test = inner_join.randomSplit([0.7, 0.3], seed = 12345)\n",
    "print(\"Training Dataset Count: \" + str(train.count()))\n",
    "print(\"Test Dataset Count: \" + str(test.count()))"
   ]
  },
  {
   "cell_type": "code",
   "execution_count": 21,
   "metadata": {},
   "outputs": [],
   "source": [
    "from pyspark.ml.classification import LogisticRegression\n",
    "lr = LogisticRegression(featuresCol = 'features', labelCol = 'label', maxIter=10)\n",
    "lrModel = lr.fit(train)"
   ]
  },
  {
   "cell_type": "markdown",
   "metadata": {},
   "source": [
    "**Make predictions on the test set**"
   ]
  },
  {
   "cell_type": "code",
   "execution_count": 25,
   "metadata": {},
   "outputs": [
    {
     "name": "stdout",
     "output_type": "stream",
     "text": [
      "+-----------+---------+-----+--------------------+----------+--------------------+\n",
      "|       city|CANCELLED|label|       rawPrediction|prediction|         probability|\n",
      "+-----------+---------+-----+--------------------+----------+--------------------+\n",
      "|Los Angeles|        1|  0.0|[13.0950776819797...|       0.0|[0.99981846207635...|\n",
      "|Los Angeles|        1|  0.0|[13.0950776819797...|       0.0|[0.99981846207635...|\n",
      "|Los Angeles|        1|  0.0|[13.0950776819797...|       0.0|[0.99981846207635...|\n",
      "|Los Angeles|        1|  0.0|[13.0950776819797...|       0.0|[0.99981846207635...|\n",
      "|Los Angeles|        1|  0.0|[13.0950776819797...|       0.0|[0.99981846207635...|\n",
      "|Los Angeles|        1|  0.0|[13.0950776819797...|       0.0|[0.99981846207635...|\n",
      "|Los Angeles|        1|  0.0|[13.0950776819797...|       0.0|[0.99981846207635...|\n",
      "|Los Angeles|        1|  0.0|[13.0950776819797...|       0.0|[0.99981846207635...|\n",
      "|Los Angeles|        1|  0.0|[13.0950776819797...|       0.0|[0.99981846207635...|\n",
      "|Los Angeles|        1|  0.0|[13.0950776819797...|       0.0|[0.99981846207635...|\n",
      "+-----------+---------+-----+--------------------+----------+--------------------+\n",
      "only showing top 10 rows\n",
      "\n"
     ]
    }
   ],
   "source": [
    "predictions = lrModel.transform(test)\n",
    "predictions.select('city', 'CANCELLED', 'label', 'rawPrediction', 'prediction', 'probability').show(10)"
   ]
  },
  {
   "cell_type": "markdown",
   "metadata": {},
   "source": [
    "**Evaluate our Logistic Regression model**\n",
    "\n",
    "Test Area Under ROC 0.9999990740475541"
   ]
  },
  {
   "cell_type": "code",
   "execution_count": 32,
   "metadata": {},
   "outputs": [
    {
     "name": "stderr",
     "output_type": "stream",
     "text": [
      "Exception ignored in: <function JavaWrapper.__del__ at 0x7fad477a4550>\n",
      "Traceback (most recent call last):\n",
      "  File \"/usr/local/spark/python/pyspark/ml/wrapper.py\", line 39, in __del__\n",
      "    if SparkContext._active_spark_context and self._java_obj is not None:\n",
      "AttributeError: 'BinaryClassificationEvaluator' object has no attribute '_java_obj'\n",
      "Exception ignored in: <function JavaWrapper.__del__ at 0x7fad477a4550>\n",
      "Traceback (most recent call last):\n",
      "  File \"/usr/local/spark/python/pyspark/ml/wrapper.py\", line 39, in __del__\n",
      "    if SparkContext._active_spark_context and self._java_obj is not None:\n",
      "AttributeError: 'BinaryClassificationEvaluator' object has no attribute '_java_obj'\n"
     ]
    },
    {
     "name": "stdout",
     "output_type": "stream",
     "text": [
      "Test Area Under ROC 0.9999990740475541\n"
     ]
    }
   ],
   "source": [
    "from pyspark.ml.evaluation import MulticlassClassificationEvaluator\n",
    "evaluator = MulticlassClassificationEvaluator()\n",
    "print('Test Area Under ROC', evaluator.evaluate(predictions))"
   ]
  }
 ],
 "metadata": {
  "kernelspec": {
   "display_name": "Python 3",
   "language": "python",
   "name": "python3"
  },
  "language_info": {
   "codemirror_mode": {
    "name": "ipython",
    "version": 3
   },
   "file_extension": ".py",
   "mimetype": "text/x-python",
   "name": "python",
   "nbconvert_exporter": "python",
   "pygments_lexer": "ipython3",
   "version": "3.8.10"
  }
 },
 "nbformat": 4,
 "nbformat_minor": 4
}
